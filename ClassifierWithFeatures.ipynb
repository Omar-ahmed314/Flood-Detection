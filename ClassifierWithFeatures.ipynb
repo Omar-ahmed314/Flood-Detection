{
 "cells": [
  {
   "cell_type": "code",
   "execution_count": 43,
   "metadata": {},
   "outputs": [],
   "source": [
    "import torch\n",
    "import torch.nn as nn\n",
    "import torch.optim as optim\n",
    "import torchvision\n",
    "import torchvision.transforms as transforms\n",
    "import numpy as np\n",
    "from torchvision.datasets import ImageFolder\n",
    "from torchvision.transforms import ToTensor\n",
    "import torchvision.models as models\n",
    "from skimage.feature import local_binary_pattern\n",
    "from skimage.color import rgb2gray\n",
    "from sklearn.linear_model import LogisticRegression\n"
   ]
  },
  {
   "cell_type": "code",
   "execution_count": 44,
   "metadata": {},
   "outputs": [],
   "source": [
    "dataset_dir = 'dataset_preprocessed'"
   ]
  },
  {
   "cell_type": "code",
   "execution_count": 45,
   "metadata": {},
   "outputs": [],
   "source": [
    "means= [0.3337701, 0.35129565, 0.36801142]\n",
    "stds= [0.16881385, 0.1562263, 0.16852096]"
   ]
  },
  {
   "cell_type": "code",
   "execution_count": 46,
   "metadata": {},
   "outputs": [],
   "source": [
    "transform = transforms.Compose(\n",
    "    [\n",
    "     transforms.Resize((256,256)),\n",
    "     transforms.ToTensor(),\n",
    "     transforms.Normalize((means[0],means[1],means[2]), (stds[0],stds[1],stds[2]))])\n",
    "full_data = ImageFolder(dataset_dir, transform=transform)\n",
    "\n",
    "#Split the dataset\n",
    "train_size = int(0.85 * len(full_data))\n",
    "test_size = len(full_data) - train_size\n",
    "trainDataset, testDataset = torch.utils.data.random_split(full_data, [train_size, test_size])"
   ]
  },
  {
   "cell_type": "code",
   "execution_count": 47,
   "metadata": {},
   "outputs": [],
   "source": [
    "#Extract LBP Features for images\n",
    "def extract_lbp_features(image, radius=4, n_points=64):\n",
    "\n",
    "    image = image.permute(1,2,0)\n",
    "    image = image.numpy()\n",
    "    # transform rgb to grayscale\n",
    "    image = rgb2gray(image)\n",
    "    lbp = local_binary_pattern(image, n_points, radius, method=\"uniform\")\n",
    "    (hist, _) = np.histogram(lbp.ravel(), bins=np.arange(0, 65), range=(0, n_points + 2), density=True)\n",
    "    hist = hist.astype(np.float32)\n",
    "    return hist\n",
    "\n",
    "#Get features for all images in full_data\n",
    "def get_features(full_data):\n",
    "    features = []\n",
    "    labels = []\n",
    "    for i in range(len(full_data)):\n",
    "        image, label = full_data[i]\n",
    "        lbp = extract_lbp_features(image)\n",
    "        features.append(lbp)\n",
    "        labels.append(label)\n",
    "    return np.array(features), np.array(labels)"
   ]
  },
  {
   "cell_type": "code",
   "execution_count": 50,
   "metadata": {},
   "outputs": [],
   "source": [
    "x_train, y_train = get_features(trainDataset)\n",
    "x_test, y_test = get_features(testDataset)"
   ]
  },
  {
   "cell_type": "code",
   "execution_count": 51,
   "metadata": {},
   "outputs": [
    {
     "name": "stdout",
     "output_type": "stream",
     "text": [
      "Accuracy on Test Set:  84.17266187050359 %\n"
     ]
    }
   ],
   "source": [
    "logisticRegr = LogisticRegression()\n",
    "logisticRegr.fit(x_train, y_train)\n",
    "\n",
    "accuracy = logisticRegr.score(x_test, y_test)\n",
    "\n",
    "print(\"Accuracy on Test Set: \", accuracy*100, \"%\")"
   ]
  }
 ],
 "metadata": {
  "kernelspec": {
   "display_name": "base",
   "language": "python",
   "name": "python3"
  },
  "language_info": {
   "codemirror_mode": {
    "name": "ipython",
    "version": 3
   },
   "file_extension": ".py",
   "mimetype": "text/x-python",
   "name": "python",
   "nbconvert_exporter": "python",
   "pygments_lexer": "ipython3",
   "version": "3.9.7"
  },
  "orig_nbformat": 4
 },
 "nbformat": 4,
 "nbformat_minor": 2
}
